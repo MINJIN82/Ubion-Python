{
  "nbformat": 4,
  "nbformat_minor": 0,
  "metadata": {
    "colab": {
      "provenance": [],
      "mount_file_id": "1Y7cB3KD35w7TDX9TN1-bMXW3F4JFl7K4",
      "authorship_tag": "ABX9TyPnPc55sqJZUD9WZp5huTT2",
      "include_colab_link": true
    },
    "kernelspec": {
      "name": "python3",
      "display_name": "Python 3"
    },
    "language_info": {
      "name": "python"
    }
  },
  "cells": [
    {
      "cell_type": "markdown",
      "metadata": {
        "id": "view-in-github",
        "colab_type": "text"
      },
      "source": [
        "<a href=\"https://colab.research.google.com/github/choeuibin/Ubion-Python/blob/main/0109(easy_version).ipynb\" target=\"_parent\"><img src=\"https://colab.research.google.com/assets/colab-badge.svg\" alt=\"Open In Colab\"/></a>"
      ]
    },
    {
      "cell_type": "markdown",
      "source": [
        "#import 시작"
      ],
      "metadata": {
        "id": "JW54O9dYIvj7"
      }
    },
    {
      "cell_type": "code",
      "source": [
        "#def file_import():\n",
        "import pandas as pd\n",
        "import seaborn as sns\n",
        "import numpy as np\n",
        "from sklearn.model_selection import train_test_split\n",
        "from sklearn.compose import ColumnTransformer\n",
        "from sklearn.preprocessing import OneHotEncoder\n",
        "\n",
        "from sklearn.linear_model import LinearRegression \n",
        "from sklearn.metrics import mean_squared_error \n",
        "from math import sqrt\n",
        "import matplotlib.pyplot as plt\n",
        "from pandas.errors import InvalidIndexError"
      ],
      "metadata": {
        "id": "Q7hC8sar0hpJ"
      },
      "execution_count": null,
      "outputs": []
    },
    {
      "cell_type": "markdown",
      "source": [
        "#file read 함수"
      ],
      "metadata": {
        "id": "kE00bKOoIyyX"
      }
    },
    {
      "cell_type": "code",
      "execution_count": null,
      "metadata": {
        "id": "sC2yQFzUz6YI"
      },
      "outputs": [],
      "source": [
        "def read_file(file_address) :\n",
        "  print(\"-------------- file read ---------------\")\n",
        "  df = pd.read_csv(file_address, encoding = \"cp949\")\n",
        "  df = pd.DataFrame(df)\n",
        "  return df\n"
      ]
    },
    {
      "cell_type": "markdown",
      "source": [
        "#정규화 함수"
      ],
      "metadata": {
        "id": "h8fQ60s8I3DA"
      }
    },
    {
      "cell_type": "code",
      "source": [
        "def normalization(df, column_number):\n",
        "  print(\"-------------- normalization ---------------\")\n",
        "  df[df.columns[column_number]] = np.log1p(df[df.columns[column_number]])\n",
        "  sns.distplot(df[df.columns[column_number]])\n",
        "  return df \n"
      ],
      "metadata": {
        "id": "ps7J8p0X1GnG"
      },
      "execution_count": null,
      "outputs": []
    },
    {
      "cell_type": "markdown",
      "source": [
        "#IQR 함수"
      ],
      "metadata": {
        "id": "GxKn0fchI6T_"
      }
    },
    {
      "cell_type": "code",
      "source": [
        "def data_IQR(df,column_number) :\n",
        "  print(\"-------------- Data_IQR ---------------\")\n",
        "  q1 = df[df.columns[column_number]].quantile(q=0.25)\n",
        "  q3 = df[df.columns[column_number]].quantile(q=0.75)\n",
        "  IQR = q3-q1\n",
        "  data_IQR2 = df[(df[df.columns[column_number]] < q3 + IQR * 1.5) & \n",
        "                 (df[df.columns[column_number]] > q1 - IQR * 1.5)]\n",
        "  sns.distplot(df[df.columns[column_number]])\n",
        "  return data_IQR2"
      ],
      "metadata": {
        "id": "zGesu0UT29hN"
      },
      "execution_count": null,
      "outputs": []
    },
    {
      "cell_type": "markdown",
      "source": [
        "#train_test 준비과정"
      ],
      "metadata": {
        "id": "9vUGzOnrI8s4"
      }
    },
    {
      "cell_type": "code",
      "source": [
        "from typing_extensions import dataclass_transform\n",
        "def before_making_model(df, x_list, column_number):\n",
        "  cg = x_list\n",
        "  X = df[cg]\n",
        "  Y = df[df.columns[column_number]]\n",
        "  X_train, X_test, Y_train, Y_test = train_test_split(X, Y, test_size=0.3, random_state=0)\n",
        "  ct = ColumnTransformer([('onehot',OneHotEncoder(sparse = False),cg)])\n",
        "  ct.fit(X_train)\n",
        "  X_train = ct.transform(X_train)\n",
        "  X_test = ct.transform(X_test)\n",
        "  return [X_train, X_test, Y_train, Y_test]"
      ],
      "metadata": {
        "id": "IGU-7Nl535qc"
      },
      "execution_count": null,
      "outputs": []
    },
    {
      "cell_type": "markdown",
      "source": [
        "#column index 확인 함수"
      ],
      "metadata": {
        "id": "0qC16Q7pJCQn"
      }
    },
    {
      "cell_type": "code",
      "source": [
        "def print_columns(df):\n",
        "  column = pd.DataFrame(df.columns)\n",
        "  print(column)\n"
      ],
      "metadata": {
        "id": "VK7gKN9N5xxW"
      },
      "execution_count": null,
      "outputs": []
    },
    {
      "cell_type": "markdown",
      "source": [
        "#선형함수"
      ],
      "metadata": {
        "id": "c8l-JKRnJGF-"
      }
    },
    {
      "cell_type": "code",
      "source": [
        "def linearRegress(train_test_data):\n",
        "  print(\"----------LinearRegression value-----------\")\n",
        "  X_train = train_test_data[0]\n",
        "  X_test = train_test_data[1]\n",
        "  Y_train = train_test_data[2]\n",
        "  Y_test = train_test_data[3]\n",
        "\n",
        "  lr = LinearRegression().fit(X_train, Y_train) \n",
        "  Y_pred = lr.predict(X_test)\n",
        "  print(\"predict value\\n\",Y_pred)\n",
        "  print(\"train R2 : {:.3f}\".format(lr.score(X_train, Y_train)))\n",
        "  print(\"test R2 : {:.3f}\".format(lr.score(X_test, Y_test))) \n",
        "  rmse = sqrt(mean_squared_error(Y_test, Y_pred)) \n",
        "  print(\"RMSE : {:.3f}\". format(rmse)) \n",
        "  return [Y_pred, Y_test]\n"
      ],
      "metadata": {
        "id": "8yT_O7RU63-9"
      },
      "execution_count": null,
      "outputs": []
    },
    {
      "cell_type": "markdown",
      "source": [
        "#인덱스 다시 셋팅"
      ],
      "metadata": {
        "id": "bNtqVvpGJItf"
      }
    },
    {
      "cell_type": "code",
      "source": [
        "def Reset_index(Y_test,column_number):\n",
        "  Y_test_df = (pd.DataFrame(Y_test)).reset_index()\n",
        "  Y_test_df = pd.DataFrame(Y_test_df[df.columns[column_number]])\n",
        "  return Y_test_df\n"
      ],
      "metadata": {
        "id": "zPgOI7Ng8DzQ"
      },
      "execution_count": null,
      "outputs": []
    },
    {
      "cell_type": "markdown",
      "source": [
        "#예측값과 test값 확인"
      ],
      "metadata": {
        "id": "7NDqq-NCJLn3"
      }
    },
    {
      "cell_type": "code",
      "source": [
        "def plot_picture(Y_pred,Y_test):\n",
        "  print(\"----------- plot grow----------- \")\n",
        "  %matplotlib Inline\n",
        "  plt.plot(Y_pred)\n",
        "  plt.plot(Y_test)"
      ],
      "metadata": {
        "id": "8OqL-jjf9pHE"
      },
      "execution_count": null,
      "outputs": []
    },
    {
      "cell_type": "markdown",
      "source": [
        "#본문"
      ],
      "metadata": {
        "id": "w7kuVV_JJPQH"
      }
    },
    {
      "cell_type": "code",
      "source": [
        "#file_import()\n",
        "\n",
        "df = read_file(\"/content/drive/MyDrive/파이썬/감귤3.csv\")\n",
        "df = normalization(df, 6)\n",
        "df = data_IQR(df,6)\n",
        "print_columns(df)\n",
        "train_test_data = before_making_model(df,[df.columns[2],df.columns[3]],6)\n",
        "Y_value = linearRegress(train_test_data)\n",
        "Y_test = Reset_index(Y_value[1],6)\n",
        "plot_picture(Y_value[0],Y_test)"
      ],
      "metadata": {
        "colab": {
          "base_uri": "https://localhost:8080/",
          "height": 759
        },
        "id": "Kymc1U5m0bRj",
        "outputId": "233d6324-24ad-4512-9938-e1929a5ff2d6"
      },
      "execution_count": null,
      "outputs": [
        {
          "output_type": "stream",
          "name": "stdout",
          "text": [
            "-------------- file read ---------------\n",
            "-------------- normalization ---------------\n",
            "-------------- Data_IQR ---------------\n",
            "          0\n",
            "0        날짜\n",
            "1        품목\n",
            "2        등급\n",
            "3      거래단위\n",
            "4       최저가\n",
            "5       최고가\n",
            "6       평균가\n",
            "7  전일대비\\n등락\n",
            "8  전일\\n평균대비\n",
            "----------LinearRegression value-----------\n",
            "predict value\n",
            " [9.54272283 9.49603336 8.86699814 8.92837165 9.31354594 9.1530449\n",
            " 8.86699814 9.31354594 9.49603336 9.13556215 9.54272283 8.64232489\n",
            " 8.92837165 9.08887269]\n",
            "train R2 : 0.771\n",
            "test R2 : -0.251\n",
            "RMSE : 0.330\n",
            "----------- plot grow----------- \n"
          ]
        },
        {
          "output_type": "stream",
          "name": "stderr",
          "text": [
            "/usr/local/lib/python3.8/dist-packages/seaborn/distributions.py:2619: FutureWarning: `distplot` is a deprecated function and will be removed in a future version. Please adapt your code to use either `displot` (a figure-level function with similar flexibility) or `histplot` (an axes-level function for histograms).\n",
            "  warnings.warn(msg, FutureWarning)\n",
            "/usr/local/lib/python3.8/dist-packages/seaborn/distributions.py:2619: FutureWarning: `distplot` is a deprecated function and will be removed in a future version. Please adapt your code to use either `displot` (a figure-level function with similar flexibility) or `histplot` (an axes-level function for histograms).\n",
            "  warnings.warn(msg, FutureWarning)\n"
          ]
        },
        {
          "output_type": "display_data",
          "data": {
            "text/plain": [
              "<Figure size 432x288 with 1 Axes>"
            ],
            "image/png": "[encoded data removed]"
          },
          "metadata": {
            "needs_background": "light"
          }
        }
      ]
    }
  ]
}