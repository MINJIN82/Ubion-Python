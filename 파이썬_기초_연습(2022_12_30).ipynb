{
  "nbformat": 4,
  "nbformat_minor": 0,
  "metadata": {
    "colab": {
      "provenance": []
    },
    "kernelspec": {
      "name": "python3",
      "display_name": "Python 3"
    },
    "language_info": {
      "name": "python"
    }
  },
  "cells": [
    {
      "cell_type": "markdown",
      "source": [
        "#파이썬 기초 연습 (2022-12-30)"
      ],
      "metadata": {
        "id": "M6BjbNi_mplJ"
      }
    },
    {
      "cell_type": "code",
      "source": [],
      "metadata": {
        "id": "4-tYUHORnMrH"
      },
      "execution_count": null,
      "outputs": []
    },
    {
      "cell_type": "markdown",
      "source": [
        "대소 비교 연산"
      ],
      "metadata": {
        "id": "i4f9vIGQneps"
      }
    },
    {
      "cell_type": "code",
      "execution_count": null,
      "metadata": {
        "colab": {
          "base_uri": "https://localhost:8080/"
        },
        "id": "zSJgE4W-WsMX",
        "outputId": "44fbf347-81ff-4113-c7be-df27b73e70f6"
      },
      "outputs": [
        {
          "output_type": "execute_result",
          "data": {
            "text/plain": [
              "True"
            ]
          },
          "metadata": {},
          "execution_count": 33
        }
      ],
      "source": [
        "1<2"
      ]
    },
    {
      "cell_type": "code",
      "source": [
        "1<=1"
      ],
      "metadata": {
        "colab": {
          "base_uri": "https://localhost:8080/"
        },
        "id": "pddgEfynWu5M",
        "outputId": "f75ccff4-2eec-4550-e799-492689113e7f"
      },
      "execution_count": null,
      "outputs": [
        {
          "output_type": "execute_result",
          "data": {
            "text/plain": [
              "True"
            ]
          },
          "metadata": {},
          "execution_count": 34
        }
      ]
    },
    {
      "cell_type": "code",
      "source": [
        "1>=2"
      ],
      "metadata": {
        "colab": {
          "base_uri": "https://localhost:8080/"
        },
        "id": "BjgLQEUJWxA0",
        "outputId": "4ffc3c0a-24de-4466-8a40-214b907e055e"
      },
      "execution_count": null,
      "outputs": [
        {
          "output_type": "execute_result",
          "data": {
            "text/plain": [
              "False"
            ]
          },
          "metadata": {},
          "execution_count": 35
        }
      ]
    },
    {
      "cell_type": "markdown",
      "source": [
        "and, not, not in"
      ],
      "metadata": {
        "id": "EYU83Gicns7-"
      }
    },
    {
      "cell_type": "code",
      "source": [
        "1 and 0"
      ],
      "metadata": {
        "colab": {
          "base_uri": "https://localhost:8080/"
        },
        "id": "yXpyYOAdW0DX",
        "outputId": "95be3e81-ecfd-4961-cca2-ed5c24769506"
      },
      "execution_count": null,
      "outputs": [
        {
          "output_type": "execute_result",
          "data": {
            "text/plain": [
              "0"
            ]
          },
          "metadata": {},
          "execution_count": 36
        }
      ]
    },
    {
      "cell_type": "code",
      "source": [
        "not 1"
      ],
      "metadata": {
        "id": "WSl-x3zPXVBe"
      },
      "execution_count": null,
      "outputs": []
    },
    {
      "cell_type": "code",
      "source": [
        "1 not in [0, 2, 3, 4]"
      ],
      "metadata": {
        "id": "0H2qPtHWXYbL"
      },
      "execution_count": null,
      "outputs": []
    },
    {
      "cell_type": "code",
      "source": [
        "'a' in 'abc'"
      ],
      "metadata": {
        "id": "cCto06gJXu--"
      },
      "execution_count": null,
      "outputs": []
    },
    {
      "cell_type": "markdown",
      "source": [
        "if, else 시험점수 연습"
      ],
      "metadata": {
        "id": "JO4z2jBdreb5"
      }
    },
    {
      "cell_type": "code",
      "source": [
        "score = 59\n",
        "\n",
        "if score > 90:\n",
        "    print(\"A\")\n",
        "else:\n",
        "    if score > 80:\n",
        "        print(\"B\")\n",
        "    else:\n",
        "      if score >70:\n",
        "          print(\"C\")\n",
        "      else:\n",
        "        if score > 60:\n",
        "            print(\"D\")\n",
        "        else:\n",
        "            print(\"F\")\n",
        "          \n"
      ],
      "metadata": {
        "id": "mioJRg02Xz7l"
      },
      "execution_count": null,
      "outputs": []
    },
    {
      "cell_type": "markdown",
      "source": [
        "if, elif 시험점수 연습"
      ],
      "metadata": {
        "id": "HyMiC98ornrL"
      }
    },
    {
      "cell_type": "code",
      "source": [
        "score = 71\n",
        "\n",
        "if score > 90:\n",
        "    print(\"A\")\n",
        "elif score > 80:\n",
        "    print(\"B\")\n",
        "elif score >70:\n",
        "    print(\"C\")\n",
        "elif score > 60:\n",
        "    print(\"D\")\n",
        "elif score <= 60:\n",
        "    print(\"F\")\n",
        "          \n"
      ],
      "metadata": {
        "id": "cfq56KydYbuo"
      },
      "execution_count": null,
      "outputs": []
    },
    {
      "cell_type": "markdown",
      "source": [
        "try, except, else 연습"
      ],
      "metadata": {
        "id": "bBo2d4o3rrE2"
      }
    },
    {
      "cell_type": "code",
      "source": [
        "try :\n",
        "    1/3\n",
        "except :\n",
        "    print(\"분모가 0이 나왔음\")\n",
        "else :\n",
        "    print(\"분모 이상없음\")"
      ],
      "metadata": {
        "id": "15L9MjMxbmJw"
      },
      "execution_count": null,
      "outputs": []
    },
    {
      "cell_type": "markdown",
      "source": [
        "while, if, for 연습"
      ],
      "metadata": {
        "id": "exQMN_EZrvIz"
      }
    },
    {
      "cell_type": "code",
      "source": [
        "i = 0\n",
        "while i < 10:\n",
        "    i+=1\n",
        "    print(i)"
      ],
      "metadata": {
        "colab": {
          "base_uri": "https://localhost:8080/"
        },
        "id": "0Oyl_4nGc234",
        "outputId": "60cadc1e-7a5a-48df-cb79-4750d9e5bce0"
      },
      "execution_count": null,
      "outputs": [
        {
          "output_type": "stream",
          "name": "stdout",
          "text": [
            "1\n",
            "2\n",
            "3\n",
            "4\n",
            "5\n",
            "6\n",
            "7\n",
            "8\n",
            "9\n",
            "10\n"
          ]
        }
      ]
    },
    {
      "cell_type": "code",
      "source": [
        "for i in range(10):\n",
        "  print(i)"
      ],
      "metadata": {
        "colab": {
          "base_uri": "https://localhost:8080/"
        },
        "id": "CKHqkPKtdIsa",
        "outputId": "8fb90c34-e5a0-44f8-c8ff-0b01dafab96b"
      },
      "execution_count": null,
      "outputs": [
        {
          "output_type": "stream",
          "name": "stdout",
          "text": [
            "0\n",
            "1\n",
            "2\n",
            "3\n",
            "4\n",
            "5\n",
            "6\n",
            "7\n",
            "8\n",
            "9\n"
          ]
        }
      ]
    },
    {
      "cell_type": "code",
      "source": [
        "j = 0\n",
        "for i in range(10):\n",
        "    j += i\n",
        "    print(j)"
      ],
      "metadata": {
        "colab": {
          "base_uri": "https://localhost:8080/"
        },
        "id": "LIpJCvdweWCQ",
        "outputId": "35e85105-c0d7-4ef7-cd44-920a37059f81"
      },
      "execution_count": null,
      "outputs": [
        {
          "output_type": "stream",
          "name": "stdout",
          "text": [
            "0\n",
            "1\n",
            "3\n",
            "6\n",
            "10\n",
            "15\n",
            "21\n",
            "28\n",
            "36\n",
            "45\n"
          ]
        }
      ]
    },
    {
      "cell_type": "code",
      "source": [
        "for i in range(5, 15, 2) :\n",
        "  print(i, end = \" \")"
      ],
      "metadata": {
        "colab": {
          "base_uri": "https://localhost:8080/"
        },
        "id": "offFdbQyem5_",
        "outputId": "f99d56cc-b8f9-4361-d846-6814545abcca"
      },
      "execution_count": null,
      "outputs": [
        {
          "output_type": "stream",
          "name": "stdout",
          "text": [
            "5 7 9 11 13 "
          ]
        }
      ]
    },
    {
      "cell_type": "markdown",
      "source": [
        "함수 연습"
      ],
      "metadata": {
        "id": "kmog6JJyrzv-"
      }
    },
    {
      "cell_type": "code",
      "source": [
        "def div_f(a) :\n",
        "    out = a/3\n",
        "    return out"
      ],
      "metadata": {
        "id": "14uUAFdZfykc"
      },
      "execution_count": null,
      "outputs": []
    },
    {
      "cell_type": "code",
      "source": [
        "f(30)"
      ],
      "metadata": {
        "colab": {
          "base_uri": "https://localhost:8080/"
        },
        "id": "JMUaXAArgDEg",
        "outputId": "671ddc08-5c43-492b-ed63-4575b9251660"
      },
      "execution_count": null,
      "outputs": [
        {
          "output_type": "execute_result",
          "data": {
            "text/plain": [
              "10.0"
            ]
          },
          "metadata": {},
          "execution_count": 44
        }
      ]
    },
    {
      "cell_type": "code",
      "source": [
        "div_3(30)"
      ],
      "metadata": {
        "colab": {
          "base_uri": "https://localhost:8080/",
          "height": 172
        },
        "id": "7BjLKTHEgH9g",
        "outputId": "ba72ff0e-4e38-4258-86ed-9aa0a05cce35"
      },
      "execution_count": null,
      "outputs": [
        {
          "output_type": "error",
          "ename": "NameError",
          "evalue": "ignored",
          "traceback": [
            "\u001b[0;31m---------------------------------------------------------------------------\u001b[0m",
            "\u001b[0;31mNameError\u001b[0m                                 Traceback (most recent call last)",
            "\u001b[0;32m<ipython-input-51-9ad09729ae3b>\u001b[0m in \u001b[0;36m<module>\u001b[0;34m\u001b[0m\n\u001b[0;32m----> 1\u001b[0;31m \u001b[0mdiv_3\u001b[0m\u001b[0;34m(\u001b[0m\u001b[0;36m30\u001b[0m\u001b[0;34m)\u001b[0m\u001b[0;34m\u001b[0m\u001b[0;34m\u001b[0m\u001b[0m\n\u001b[0m",
            "\u001b[0;31mNameError\u001b[0m: name 'div_3' is not defined"
          ]
        }
      ]
    },
    {
      "cell_type": "code",
      "source": [],
      "metadata": {
        "id": "OxbJO5p9gRZX"
      },
      "execution_count": null,
      "outputs": []
    }
  ]
}